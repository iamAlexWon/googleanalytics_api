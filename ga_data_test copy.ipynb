{
 "cells": [
  {
   "cell_type": "code",
   "execution_count": 1,
   "metadata": {},
   "outputs": [
    {
     "ename": "SyntaxError",
     "evalue": "invalid syntax (824673237.py, line 1)",
     "output_type": "error",
     "traceback": [
      "\u001b[0;36m  File \u001b[0;32m\"/tmp/ipykernel_24777/824673237.py\"\u001b[0;36m, line \u001b[0;32m1\u001b[0m\n\u001b[0;31m    pip install --upgrage google-api-python-client\u001b[0m\n\u001b[0m        ^\u001b[0m\n\u001b[0;31mSyntaxError\u001b[0m\u001b[0;31m:\u001b[0m invalid syntax\n"
     ]
    }
   ],
   "source": [
    "pip install --upgrage google-api-python-client\n",
    "pip install oauth2client"
   ]
  },
  {
   "cell_type": "code",
   "execution_count": 1,
   "metadata": {},
   "outputs": [],
   "source": [
    "from apiclient.discovery import build\n",
    "from oauth2client.service_account import ServiceAccountCredentials\n",
    "from pprint import pprint"
   ]
  },
  {
   "cell_type": "code",
   "execution_count": 2,
   "metadata": {},
   "outputs": [],
   "source": [
    "def get_service(api_name, api_version, key_file_location):\n",
    "    credentials = ServiceAccountCredentials.from_json_keyfile_name(\n",
    "        key_file_location, scopes = scopes)\n",
    "\n",
    "    service = build(api_name, api_version, credentials=credentials)\n",
    "\n",
    "    return service"
   ]
  },
  {
   "cell_type": "code",
   "execution_count": 3,
   "metadata": {},
   "outputs": [
    {
     "name": "stdout",
     "output_type": "stream",
     "text": [
      "View (Profile): 전체 웹사이트 데이터\n",
      "Total Sessions: 48459\n"
     ]
    }
   ],
   "source": [
    "def get_service(api_name, api_version, scopes, key_file_location):\n",
    "   \n",
    "    credentials = ServiceAccountCredentials.from_json_keyfile_name(\n",
    "            key_file_location, scopes=scopes)\n",
    "    service = build(api_name, api_version, credentials=credentials)\n",
    "    return service\n",
    "\n",
    "\n",
    "def get_first_profile_id(service):\n",
    "    accounts = service.management().accounts().list().execute()\n",
    "\n",
    "    if accounts.get('items'):\n",
    "        account = accounts.get('items')[0].get('id')\n",
    "        properties = service.management().webproperties().list(\n",
    "                accountId=account).execute()\n",
    "\n",
    "        if properties.get('items'):\n",
    "            property = properties.get('items')[0].get('id')\n",
    "            profiles = service.management().profiles().list(\n",
    "                    accountId=account,\n",
    "                    webPropertyId=property).execute()\n",
    "\n",
    "            if profiles.get('items'):\n",
    "                return profiles.get('items')[0].get('id')\n",
    "\n",
    "    return None\n",
    "\n",
    "\n",
    "def get_results(service, profile_id):\n",
    "    return service.data().ga().get(\n",
    "            ids='ga:' + profile_id,\n",
    "            start_date='7daysAgo',\n",
    "            end_date='today',\n",
    "            metrics='ga:sessions').execute()\n",
    "\n",
    "\n",
    "def print_results(results):\n",
    "    # Print data nicely for the user.\n",
    "    if results:\n",
    "        print('View (Profile):', results.get('profileInfo').get('profileName'))\n",
    "        print('Total Sessions:', results.get('rows')[0][0])\n",
    "\n",
    "    else:\n",
    "        print('No results found')\n",
    "\n",
    "\n",
    "def main():\n",
    "    # Define the auth scopes to request.\n",
    "    scope = 'https://www.googleapis.com/auth/analytics.readonly'\n",
    "    key_file_location = './111.json'\n",
    "\n",
    "    # Authenticate and construct service.\n",
    "    service = get_service(\n",
    "            api_name='analytics',\n",
    "            api_version='v3',\n",
    "            scopes=[scope],\n",
    "            key_file_location=key_file_location)\n",
    "\n",
    "    profile_id = get_first_profile_id(service)\n",
    "    print_results(get_results(service, profile_id))\n",
    "\n",
    "\n",
    "if __name__ == '__main__':\n",
    "    main()\n"
   ]
  },
  {
   "cell_type": "code",
   "execution_count": 4,
   "metadata": {},
   "outputs": [],
   "source": [
    "def get_results(service, profile_id):\n",
    "    return service.data().ga().get(\n",
    "            ids='ga:' + profile_id,\n",
    "            start_date='7daysAgo',\n",
    "            end_date='today',\n",
    "            metrics='ga:sessions, ga:user').execute()"
   ]
  },
  {
   "cell_type": "code",
   "execution_count": 5,
   "metadata": {},
   "outputs": [
    {
     "ename": "NameError",
     "evalue": "name 'service' is not defined",
     "output_type": "error",
     "traceback": [
      "\u001b[0;31m---------------------------------------------------------------------------\u001b[0m",
      "\u001b[0;31mNameError\u001b[0m                                 Traceback (most recent call last)",
      "\u001b[0;32m/tmp/ipykernel_3096/3134036189.py\u001b[0m in \u001b[0;36m<module>\u001b[0;34m\u001b[0m\n\u001b[0;32m----> 1\u001b[0;31m \u001b[0mservice\u001b[0m\u001b[0;34m\u001b[0m\u001b[0;34m\u001b[0m\u001b[0m\n\u001b[0m",
      "\u001b[0;31mNameError\u001b[0m: name 'service' is not defined"
     ]
    }
   ],
   "source": [
    "service"
   ]
  },
  {
   "cell_type": "code",
   "execution_count": null,
   "metadata": {},
   "outputs": [],
   "source": []
  }
 ],
 "metadata": {
  "kernelspec": {
   "display_name": "moonjong",
   "language": "python",
   "name": "moonjong"
  },
  "language_info": {
   "codemirror_mode": {
    "name": "ipython",
    "version": 3
   },
   "file_extension": ".py",
   "mimetype": "text/x-python",
   "name": "python",
   "nbconvert_exporter": "python",
   "pygments_lexer": "ipython3",
   "version": "3.8.12"
  }
 },
 "nbformat": 4,
 "nbformat_minor": 4
}
